{
 "cells": [
  {
   "cell_type": "markdown",
   "metadata": {},
   "source": [
    "# Genre Classication Task\n",
    "\n",
    "### Description\n",
    "In this task, I have trained and evaluated Support Vector Machine (SVM) for prediction of genre. Essentia's MusicExtractor has been used to compute summarized descriptor values (no frames). Scikit-learn has been used for SVM classifier. All the features have been pre-processed first, by removing features with non-numerical irrelevant values and standardizing them to zero mean and unit variance.\n",
    "\n",
    "This notebook along with the supporting .py files is self-sufficient in the sense that it handles everything from downloading the dataset to arriving at the classification results with appropriate instructions and explanations. For questions/feedback, please write to venkatesh.shenoykadandale01@estudiant.upf.edu.\n",
    "\n",
    "A submission by Venkatesh Shenoy Kadandale, SMC Master Student 2017-18"
   ]
  },
  {
   "cell_type": "code",
   "execution_count": 1,
   "metadata": {},
   "outputs": [],
   "source": [
    "# all the imports\n",
    "import os\n",
    "import urllib\n",
    "import zipfile\n",
    "import json\n",
    "import itertools\n",
    "import numpy as np\n",
    "import matplotlib.pyplot as plt\n",
    "\n",
    "\n",
    "import essentia\n",
    "import essentia.standard as es\n",
    "import pandas as pd #python library for data manipulation and analysis\n",
    "import seaborn as sns; # for visualizing confusion matrix\n",
    "\n",
    "from sklearn import svm\n",
    "from sklearn.model_selection import train_test_split\n",
    "from sklearn.metrics import confusion_matrix, accuracy_score\n",
    "from sklearn import preprocessing\n",
    "from sklearn.preprocessing import StandardScaler\n",
    "from sklearn.svm import SVC\n",
    "from sklearn.feature_selection import SelectFromModel\n",
    "from sklearn.svm import LinearSVC\n",
    "from sklearn.feature_selection import SelectKBest\n",
    "\n",
    "#external .py files\n",
    "import download_file_from_google_drive #for downloading big files from google drive\n",
    "import confirm_prompt #for confirming user action \n",
    "import json_flattener #for flatenning jsons"
   ]
  },
  {
   "cell_type": "markdown",
   "metadata": {},
   "source": [
    "### Dataset creation/setting path to existing dataset"
   ]
  },
  {
   "cell_type": "code",
   "execution_count": 2,
   "metadata": {},
   "outputs": [
    {
     "name": "stdout",
     "output_type": "stream",
     "text": [
      "Would you like to skip downloading the data? \n",
      "Enter 'y' if you already have dataset and 'n' to download the dataset.\n",
      " [NOTE] : Downloading the dataset using this notebook can take up to 20 minutes.\n",
      "y\n"
     ]
    }
   ],
   "source": [
    "# [NOTE] Please set the path to dataset here(this is the path to directory where the genre folders {cla, dan ... spe} will be moved in)\n",
    "path_to_dataset='../data/genres/'\n",
    "\n",
    "if not os.path.exists(path_to_dataset):\n",
    "    os.umask(0) #To mask the permission restrictions on new files/directories being created\n",
    "    os.makedirs(path_to_dataset,0o777) # 0o777 gives us full permissions for the folder\n",
    "\n",
    "# Prompt to know if you want to skip downloading the dataset\n",
    "skip_dataset_download=confirm_prompt.confirm(prompt='Would you like to skip downloading the data? \\nEnter \\'y\\' if you already have dataset and \\'n\\' to download the dataset.\\n [NOTE] : Downloading the dataset using this notebook can take up to 20 minutes.\\n')\n",
    "if(not skip_dataset_download):\n",
    "    #This block downloads the dataset from google drive\n",
    "    file_id='1R83zetbMlQVeAILOW-TsRKnUTMAN-9sZ'\n",
    "    filename=path_to_dataset+\"genre.zip\"\n",
    "    print(\"Downloading the dataset...\")\n",
    "    download_file_from_google_drive.download_file_from_google_drive(file_id,filename)\n",
    "    print(\"Unzipping the data file.\")\n",
    "    #Unzip the file\n",
    "    zip_ref = zipfile.ZipFile(filename, 'r')\n",
    "    zip_ref.extractall(path_to_dataset)\n",
    "    zip_ref.close()\n",
    "    os.remove(filename)#Removing the zip file\n",
    "    print('Data downloaded and unzipped to: ',path_to_dataset)\n",
    "    \n",
    "# [NOTE] If you already have the dataset, move the genre folders {cla, dan ... spe} into path_to_dataset\n",
    "genres = os.listdir(path_to_dataset)\n",
    "##The ordering of genre names is really important for lookup as we will be assigning each of them a number for the sake of training models in sklearn. \n",
    "##The genre names are obtained from the folder names and hence the ordering of folders depends on the operating system.\n",
    "##Hence, sorting the genre names will help maintain a uniform order across all os.  \n",
    "genres.sort()"
   ]
  },
  {
   "cell_type": "markdown",
   "metadata": {},
   "source": [
    "## Feature Extraction\n",
    "#### CAUTION :  The next segment runs very slowly. To avoid running this, use pre-extracted data by responding 'y' to the prompt.\n",
    "The next segment - JSON EXTRACTION runs very slowly(takes around 2 hours). In this segment, we are going to use MusicExtractor to analyze all audio files in the dataset and store aggredated analysis results in json files."
   ]
  },
  {
   "cell_type": "code",
   "execution_count": 3,
   "metadata": {},
   "outputs": [
    {
     "name": "stdout",
     "output_type": "stream",
     "text": [
      "Would you like to skip extraction of feature jsons from the dataset? \n",
      "Enter 'y' if you want to use the pre-extracted jsons and 'n' to start extracting jsons.\n",
      " [NOTE] : Feature extraction can take up to 2 hours.\n",
      "y\n",
      "Downloading the pre-extracted jsons...\n",
      "Data downloaded and unzipped to the genre specific folders.\n"
     ]
    }
   ],
   "source": [
    "# Prompt to know if you want to extract the features now or use the pre-extracted ones\n",
    "skip_json_extraction=confirm_prompt.confirm(prompt='Would you like to skip extraction of feature jsons from the dataset? \\nEnter \\'y\\' if you want to use the pre-extracted jsons and \\'n\\' to start extracting jsons.\\n [NOTE] : Feature extraction can take up to 2 hours.\\n')\n",
    "\n",
    "if(skip_json_extraction):\n",
    "    #Download the pre-extracted feature jsons\n",
    "    file_id='1kzCMPynp5aVCjM_hwwq1stASh8egyHu5'\n",
    "    filename=path_to_dataset+\"genre_jsons.zip\"\n",
    "    print(\"Downloading the pre-extracted jsons...\")\n",
    "    urllib.request.urlretrieve('http://docs.google.com/uc?id='+file_id,filename)\n",
    "    #Unzip the file\n",
    "    zip_ref = zipfile.ZipFile(filename, 'r')\n",
    "    zip_ref.extractall(path_to_dataset)\n",
    "    zip_ref.close()\n",
    "    os.remove(filename)#Removing the zip file\n",
    "    print('Data downloaded and unzipped to the genre specific folders.')    \n",
    "else:    \n",
    "    #Extract all the features in json format\n",
    "    genres=os.listdir(path_to_dataset)\n",
    "    for genre in genres:\n",
    "        print(\"[GENRE] : \" + genre)\n",
    "        files=os.listdir(path_to_dataset+genre)\n",
    "        print(\"Number of files : \"+str(len(files)))\n",
    "        for file in files:\n",
    "            if(file.endswith('.mp3')):\n",
    "                filename=path_to_dataset+genre+\"/\"+file \n",
    "                print(\"Analysing file : \"+filename)\n",
    "                # Compute all features, aggregate only 'mean' and 'stdev' statistics for all low-level, rhythm and tonal frame features\n",
    "                features, features_frames = es.MusicExtractor(lowlevelStats=['mean', 'stdev'],\n",
    "                                                              rhythmStats=['mean', 'stdev'],\n",
    "                                                              tonalStats=['mean', 'stdev'])(filename)\n",
    "                features_frames=[]\n",
    "                es.YamlOutput(filename = filename.replace('.mp3','.json'), format='json')(features)\n",
    "                features=[]\n",
    "                filename=[]\n",
    "    "
   ]
  },
  {
   "cell_type": "markdown",
   "metadata": {},
   "source": [
    "## Preprocessing\n",
    "The number of keys in each of the json are not same. The difference is in the number keys with non-numerical values.\n",
    "To remove unwanted keys and at the same time ensure that each json file will be reduced to same number of the features as the rest, all the jsons are flattened first. The one with minimum number of features is selected. This json is cleaned of non-numerical data and we check if the final keys of this json are present in all other jsons. It turned out these final keys are present in all other jsons.  "
   ]
  },
  {
   "cell_type": "code",
   "execution_count": 16,
   "metadata": {},
   "outputs": [
    {
     "name": "stdout",
     "output_type": "stream",
     "text": [
      "The json file tlfno_hombres_10.json has the least number of keys\n"
     ]
    }
   ],
   "source": [
    "#Get the json with minimum keys\n",
    "for genre in genres:\n",
    "    files=os.listdir(path_to_dataset+genre)\n",
    "    min_keys=100000\n",
    "    smallest_json=\"\"\n",
    "    smallest_json_file=\"\" \n",
    "    for fileName in files:\n",
    "        if(fileName.endswith('.json')):\n",
    "            jsonFile=open(path_to_dataset+genre+\"/\"+fileName,\"r\",encoding=\"utf-8\")\n",
    "            jsontoPython=json.loads(jsonFile.read(), strict=False)\n",
    "            flatJson = json_flattener.flatten_json(jsontoPython)\n",
    "            if(min_keys>len(flatJson.keys())):\n",
    "                min_keys=len(flatJson.keys())\n",
    "                smallest_json=flatJson\n",
    "                smallest_json_file=fileName\n",
    "print(\"The json file \"+smallest_json_file+\" has the least number of keys\")"
   ]
  },
  {
   "cell_type": "code",
   "execution_count": 6,
   "metadata": {},
   "outputs": [],
   "source": [
    "# Remove unwanted string keys from the smallest_json\n",
    "discard_keyset=set()\n",
    "for key in smallest_json.keys():\n",
    "    if(type(smallest_json.get(key)) is str):\n",
    "        discard_keyset.add(key)\n",
    "for key in discard_keyset:\n",
    "    smallest_json.pop(key,None)"
   ]
  },
  {
   "cell_type": "code",
   "execution_count": 7,
   "metadata": {},
   "outputs": [
    {
     "name": "stdout",
     "output_type": "stream",
     "text": [
      "The refined keyset from tlfno_hombres_10.json can be used as a feature set for combining all jsons into csv.\n"
     ]
    }
   ],
   "source": [
    "# Checking to make sure whether all other jsons have the keys that are present in the smallest json\n",
    "trueKeysetFlag=1\n",
    "for genre in genres:\n",
    "    files=os.listdir(path_to_dataset+genre)\n",
    "    for fileName in files:\n",
    "        if(fileName.endswith('.json')):\n",
    "            jsonFile=open(path_to_dataset+genre+\"/\"+fileName,\"r\",encoding=\"utf-8\")\n",
    "            jsontoPython=json.loads(jsonFile.read(), strict=False)\n",
    "            flatJson = json_flattener.flatten_json(jsontoPython)\n",
    "            for key in smallest_json.keys():\n",
    "                if(key not in flatJson.keys()):\n",
    "                    trueKeysetFlag=0\n",
    "                    break\n",
    "if(trueKeysetFlag):\n",
    "    print(\"The refined keyset from \"+smallest_json_file+\" can be used as a feature set for combining all jsons into csv.\")\n",
    "else:\n",
    "    print(\"The feature set will have to be manually selected ater inspecting the data more closely.\")"
   ]
  },
  {
   "cell_type": "code",
   "execution_count": 8,
   "metadata": {},
   "outputs": [],
   "source": [
    "#keyList is the final set of features\n",
    "sortedKeySet=sorted(smallest_json.keys())\n",
    "keyList=['filename','genre']\n",
    "keyList.extend(sortedKeySet)"
   ]
  },
  {
   "cell_type": "code",
   "execution_count": null,
   "metadata": {},
   "outputs": [
    {
     "name": "stdout",
     "output_type": "stream",
     "text": [
      "Fetching json files from [GENRE] : cla\n",
      "Fetching json files from [GENRE] : dan\n",
      "Fetching json files from [GENRE] : hip\n",
      "Fetching json files from [GENRE] : jaz\n"
     ]
    }
   ],
   "source": [
    "# Load data into Pandas Dataframes\n",
    "dictValues={}\n",
    "dfv=pd.DataFrame(dictValues, columns=keyList)\n",
    "i=0\n",
    "for genre in genres:\n",
    "    print(\"Fetching json files from [GENRE] : \" + genre)\n",
    "    files=os.listdir(path_to_dataset+genre)\n",
    "    for fileName in files:\n",
    "        if(fileName.endswith('.json')):\n",
    "            jsonFile = open (path_to_dataset+genre+\"/\"+fileName,\"r\",encoding=\"utf-8\")\n",
    "            jsonToPython = json.loads(jsonFile.read(), strict=False)\n",
    "            flatJson = json_flattener.flatten_json(jsonToPython)\n",
    "            dictValues[keyList[0]] = fileName.replace('.json','')\n",
    "            dictValues[keyList[1]] = genres.index(genre)+1\n",
    "            for index in range(2,len(keyList)):\n",
    "                dictValues[keyList[index]]=flatJson.get(keyList[index])\n",
    "            dfv.loc[i]=(dictValues)\n",
    "            i+=1\n",
    "print(\"Features loaded into panda dataframe!\")"
   ]
  },
  {
   "cell_type": "code",
   "execution_count": 10,
   "metadata": {
    "scrolled": false
   },
   "outputs": [],
   "source": [
    "df1 = dfv.iloc[:, :2] #seperate out filenames and genre columns from the rest\n",
    "df2 = dfv.iloc[:, 2:]\n",
    "scaler = StandardScaler() #To standardize the features to zero mean and unit variance\n",
    "df2[df2.columns] = scaler.fit_transform(df2[df2.columns])"
   ]
  },
  {
   "cell_type": "code",
   "execution_count": 11,
   "metadata": {},
   "outputs": [],
   "source": [
    "#Create train_df for training data(80% of dataset) and test_df for test data(20% of dataset).\n",
    "df = pd.concat([df1, df2], axis=1)\n",
    "train_df = pd.concat([df.iloc[:44,:],df.iloc[55:99,:],df.iloc[110:154,:],df.iloc[165:209,:],\n",
    "                     df.iloc[220:263,:],df.iloc[274:318,:],df.iloc[329:373,:],df.iloc[384:427,:]], ignore_index=True)\n",
    "test_df = pd.concat([df.iloc[44:55,:],df.iloc[99:110,:],df.iloc[154:165,:],df.iloc[209:220,:],\n",
    "                   df.iloc[263:274,:],df.iloc[318:329,:],df.iloc[373:384,:],df.iloc[427:438,:]], ignore_index=True)\n",
    "preprocessed_dir = '../data/preprocessed/' #This is the directory where preprocessed CSV files will be stored\n",
    "if not os.path.exists(preprocessed_dir):\n",
    "    os.umask(0)\n",
    "    os.makedirs(preprocessed_dir,0o777)\n",
    "train_df.to_csv(preprocessed_dir+'train.csv', encoding='utf-8', index=False)\n",
    "test_df.to_csv(preprocessed_dir+'test.csv', encoding='utf-8', index=False)"
   ]
  },
  {
   "cell_type": "markdown",
   "metadata": {},
   "source": [
    "## Training SVM Classifier"
   ]
  },
  {
   "cell_type": "code",
   "execution_count": 12,
   "metadata": {},
   "outputs": [
    {
     "data": {
      "text/plain": [
       "LinearSVC(C=1.0, class_weight=None, dual=True, fit_intercept=True,\n",
       "     intercept_scaling=1, loss='squared_hinge', max_iter=1000,\n",
       "     multi_class='ovr', penalty='l2', random_state=None, tol=0.0001,\n",
       "     verbose=0)"
      ]
     },
     "execution_count": 12,
     "metadata": {},
     "output_type": "execute_result"
    }
   ],
   "source": [
    "X = train_df.iloc[:,2:].as_matrix()\n",
    "y = train_df.transpose().as_matrix()[1].astype('int')\n",
    "\n",
    "#clf = SVC()\n",
    "clf = LinearSVC()\n",
    "#clf = SVC(kernel='linear', C=0.01)\n",
    "#clf = Pipeline([\n",
    "#  ('feature_selection', SelectFromModel(LinearSVC())),\n",
    "#  ('classification', LinearSVC())\n",
    "#])\n",
    "\n",
    "clf.fit(X, y)"
   ]
  },
  {
   "cell_type": "markdown",
   "metadata": {},
   "source": [
    "## Testing"
   ]
  },
  {
   "cell_type": "code",
   "execution_count": 13,
   "metadata": {},
   "outputs": [],
   "source": [
    "test_data=test_df.iloc[:,2:].as_matrix()\n",
    "clf_output = clf.predict(test_data) # storing classifier output - predicted labels\n",
    "gt = test_df.transpose().as_matrix()[1].astype('int') # storing ground truth "
   ]
  },
  {
   "cell_type": "markdown",
   "metadata": {},
   "source": [
    "## Evaluation"
   ]
  },
  {
   "cell_type": "code",
   "execution_count": 14,
   "metadata": {
    "scrolled": true
   },
   "outputs": [],
   "source": [
    "# Compute confusion matrix\n",
    "cnf_matrix = confusion_matrix(gt, clf_output)\n",
    "np.set_printoptions(precision=2)\n",
    "class_names=genres"
   ]
  },
  {
   "cell_type": "markdown",
   "metadata": {},
   "source": [
    "## Visualization of results"
   ]
  },
  {
   "cell_type": "code",
   "execution_count": 19,
   "metadata": {},
   "outputs": [
    {
     "name": "stdout",
     "output_type": "stream",
     "text": [
      "Classification accuracy : 88.6363636364 %\n"
     ]
    },
    {
     "data": {
      "image/png": "[encoded data removed]",
      "text/plain": [
       "<matplotlib.figure.Figure at 0x7efdb43620b8>"
      ]
     },
     "metadata": {},
     "output_type": "display_data"
    }
   ],
   "source": [
    "# A seaborn heatmap is used to visualize the confusion matrix\n",
    "sns.set()\n",
    "df_cm = pd.DataFrame(cnf_matrix, index=class_names, columns=class_names)\n",
    "fig = plt.figure(figsize=(10,7))\n",
    "heatmap = sns.heatmap(df_cm, annot=True, fmt=\"d\")\n",
    "heatmap.yaxis.set_ticklabels(heatmap.yaxis.get_ticklabels(), rotation=0, ha='right', fontsize=14)\n",
    "heatmap.xaxis.set_ticklabels(heatmap.xaxis.get_ticklabels(), rotation=45, ha='right', fontsize=14)\n",
    "plt.ylabel('True label')\n",
    "plt.xlabel('Predicted label')\n",
    "\n",
    "print(\"Classification accuracy : \"+str(100*accuracy_score(gt,clf_output))+\" %\")"
   ]
  },
  {
   "cell_type": "markdown",
   "metadata": {},
   "source": [
    "## REPORT\n",
    "\n",
    "In this task, we have trained and evaluated Support Vector Machine (SVM) for prediction of genre. We have used Essentia's MusicExtractor to compute summarized descriptor values - lowlevel, rhythm, and tonal descriptors (no frames), summarized by considering only their mean and stdev. We have analyzed all audio in the dataset using MusicExtractor and store aggregated analysis results in json files. The descriptors computed for all files and the genre annotations (all audio files are inside folder names that correspond to genres) are loaded. There is a mismatch between sizes(number of keys) of different jsons. To arrive at jsons of same size, we found the smallest one and removed the keys with non-numerical descriptors. We checked to see if the final set of keys from the smallest json are present in all other jsons. Luckily, it happened so and we used this final keyset as our feature set. We then split the dataset into two balanced subsets: 80% for training, 20% for testing (making sure that the testing subset contains equal amount of tracks : 11 by each genre). We have used Scikit-learn for SVM classifier to train the model on training subset. We then used this model to predict genre for testing subset and evaluated accuracy of predictions (% of correct predictions). We have compute classification accuracy and the confusion matrix and presented the results in the heatmap plot.\n",
    "\n",
    "\n",
    "Here are some metrics:\n",
    "Labels: genres {cla, dan, hip, jaz, pop, rhy, roc, spe}<br>\n",
    "Number of labels: 8<br>\n",
    "Number of audio files: 55*6 + 54*2 = 438 (pop and spe have only 54 files)<br>\n",
    "Number of rows in training set = 44*6 + 43*2 = 350<br>\n",
    "Number of rows in test set = 11*8 = 88<br>\n",
    "Number of features: 1803<br>\n",
    "\n",
    "\n",
    "Ideally, the number of features should not exceed 10% the size of the dataset. However, we tried with lesser number of features chosen manually by using the domain knowledge. But that didn't improve the classification accuracy. We also investigated feature selection algorithms(using skicit's Pipeline), but that didn't improve the classification accuracy.\n",
    "\n",
    "From the confusion matrix, we notice that the genres : classical, dance, rock and speech have highest classification accuracy of 100%. Hip hop and jazz have the next best classification accuracies - 10/11 * 100 = 91%. The pop and rhythm predictions need to be improved, right now their classification accuracy is 7/11 * 100 = 64%. One instance each of hiphop, pop and jazz were classified as rhythmic. Two instances from pop genre one instance of rhythms were classified as dance. This missclassifications seem to be justified by the nature of the specific clips. Because, there are times when a music from particular genre can sound like other genres. For example, the drums solo section in \"whiplash\", a jazz piece, can be considered as rhythmic.\n",
    "\n",
    "Cross-validation is required to reduce the effect of overfitting. We tried using ensemble classifiers, but the accuracy still did not improve much. We would like to conclude that pop and rhythm samples were tough to learn. We achieved an overall classification accuracy of 88.64%. "
   ]
  },
  {
   "cell_type": "code",
   "execution_count": null,
   "metadata": {},
   "outputs": [],
   "source": []
  }
 ],
 "metadata": {
  "kernelspec": {
   "display_name": "Python 2",
   "language": "python",
   "name": "python2"
  },
  "language_info": {
   "codemirror_mode": {
    "name": "ipython",
    "version": 2
   },
   "file_extension": ".py",
   "mimetype": "text/x-python",
   "name": "python",
   "nbconvert_exporter": "python",
   "pygments_lexer": "ipython2",
   "version": "2.7.12"
  }
 },
 "nbformat": 4,
 "nbformat_minor": 2
}
