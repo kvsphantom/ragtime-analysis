{
 "cells": [
  {
   "cell_type": "code",
   "execution_count": null,
   "metadata": {},
   "outputs": [],
   "source": [
    "import os\n",
    "import numpy as np\n",
    "import matplotlib.pyplot as plt\n",
    "\n",
    "from music21 import *\n",
    "import essentia\n",
    "import essentia.standard as es"
   ]
  },
  {
   "cell_type": "code",
   "execution_count": null,
   "metadata": {},
   "outputs": [],
   "source": [
    "path_to_midi_file='../Maple-Leaf-Rag.mid'\n",
    "streamScore = midi.translate.midiFilePathToStream(path_to_midi_file)"
   ]
  },
  {
   "cell_type": "markdown",
   "metadata": {},
   "source": [
    "## Visualizing Piano-Roll\n",
    "\n",
    "Visualizing piano-roll of this midi file will help us identify and segregate the sections. The repetitions of musical patterns are the main factors that can help us in identifying parts. It is easier in this case since we are analyzing a piano piece."
   ]
  },
  {
   "cell_type": "code",
   "execution_count": null,
   "metadata": {},
   "outputs": [],
   "source": [
    "streamScore.plot('pianoroll')"
   ]
  },
  {
   "cell_type": "code",
   "execution_count": null,
   "metadata": {},
   "outputs": [],
   "source": [
    "# MIDI Analysis\n",
    "\n",
    "# Overall track\n",
    "# 1. Split into left and right. Compute diffs in left offsets plot the distribution.\n",
    "# 2. Compute diffs in left offsets plot the distribution.\n",
    "# 3. Check how many places right note onset matches left.\n",
    "# 4. Discuss syncopation by looking at these numbers.(In the report refer to the screenshot of youtube video)\n",
    "# 5. Plot overall tonality- distribution of notes,chords\n",
    "\n",
    "#Split algorithmically?\n",
    "\n",
    "#Each section\n",
    "# 1. Distribution of diffs in offsets for left + right\n",
    "# 2. Octave jumps in C section\n",
    "# 3. Add another voice?\n",
    "# 4. Distribution of chords, notes.\n",
    "# 5. \n",
    "\n",
    "# Essentia "
   ]
  },
  {
   "cell_type": "code",
   "execution_count": null,
   "metadata": {},
   "outputs": [],
   "source": [
    "streamScore.show('text')"
   ]
  },
  {
   "cell_type": "code",
   "execution_count": null,
   "metadata": {},
   "outputs": [],
   "source": [
    "#a=streamScore.parts[0].measures(0,3)#.plot()\n",
    "realtime_a = midi.realtime.StreamPlayer(v)\n",
    "realtime_a.play()"
   ]
  },
  {
   "cell_type": "code",
   "execution_count": null,
   "metadata": {},
   "outputs": [],
   "source": [
    "import numpy as np\n",
    "#n1=streamScore[0][5][0]\n",
    "n1='G#2'\n",
    "n2='E-2'\n",
    "chords=['G#2 G#3','E-3 G#3 C4','E-2 E-3','E-3 G3 B-4'];\n",
    "notes=['A-5','B-5','C5','D-5','E-5','F5','G5']\n",
    "#notes=['A-5','B-5','C5','D-5']\n",
    "v = stream.Voice()\n",
    "l = stream.Voice()\n",
    "count=0\n",
    "lead_count=0\n",
    "for i in np.arange(0,17,0.5):\n",
    "    count+=1\n",
    "    c1=stream.chord.Chord(chords[select])\n",
    "    c1.duration=duration.Duration(0.4)\n",
    "    #d=duration.Duration(0.4)\n",
    "    select=count%4\n",
    "    #c1.name=stream.chord.Chord(chords[select],duration=d)\n",
    "    #c1.name=stream.chord.Chord(chords[select])\n",
    "    v.insert(i,c1)\n",
    "    \n",
    "for i in np.arange(0,17,0.25):\n",
    "    n=stream.note.Note(notes[lead_count%7])\n",
    "    lead_count+=1\n",
    "    if(lead_count%4==(2 or 4)):\n",
    "        l.insert(i,n)\n"
   ]
  },
  {
   "cell_type": "code",
   "execution_count": null,
   "metadata": {},
   "outputs": [],
   "source": [
    "from copy import copy\n",
    "copy = copy(v)"
   ]
  },
  {
   "cell_type": "code",
   "execution_count": null,
   "metadata": {},
   "outputs": [],
   "source": [
    "streamScore.parts[0].measures(2,17).show('text')"
   ]
  },
  {
   "cell_type": "code",
   "execution_count": null,
   "metadata": {},
   "outputs": [],
   "source": [
    "streamScore.show('text')"
   ]
  },
  {
   "cell_type": "code",
   "execution_count": null,
   "metadata": {},
   "outputs": [],
   "source": [
    "s.show('text')"
   ]
  },
  {
   "cell_type": "code",
   "execution_count": null,
   "metadata": {},
   "outputs": [],
   "source": [
    "streamScore[0][5][0:19].show('text')"
   ]
  },
  {
   "cell_type": "code",
   "execution_count": null,
   "metadata": {},
   "outputs": [],
   "source": [
    "#streamScore[0][6:].show('text')\n",
    "s = stream.Stream()\n",
    "s.append(streamScore[0][0:4])\n",
    "s.insert(0,swing_left) #rswight\n",
    "s.insert(0,swing_right) #rswight\n",
    "#s[0].insert(0.25,copy) \n",
    "#s[0].insert(0,v) \n",
    "#s.append(streamScore[0][5]) #left\n",
    "#s[0].append(streamScore[0][6:])"
   ]
  },
  {
   "cell_type": "code",
   "execution_count": null,
   "metadata": {},
   "outputs": [],
   "source": [
    "#s = stream.Stream()\n",
    "#s.insert(0, a.measures(2,17)[5][0])\n",
    "#s.insert(0, a.measures(2,17)[5][1])\n",
    "#s.insert(0, v)\n",
    "#s.insert(0, v1)\n",
    "realtime_a = midi.realtime.StreamPlayer(s)\n",
    "realtime_a.play()"
   ]
  },
  {
   "cell_type": "code",
   "execution_count": null,
   "metadata": {},
   "outputs": [],
   "source": [
    "streamScore[0].measures(0,1)"
   ]
  },
  {
   "cell_type": "code",
   "execution_count": null,
   "metadata": {},
   "outputs": [],
   "source": [
    "streamScore.show('text')"
   ]
  },
  {
   "cell_type": "code",
   "execution_count": null,
   "metadata": {},
   "outputs": [],
   "source": [
    "#len(streamScore.pitches)\n",
    "a[4:6].show('text')"
   ]
  },
  {
   "cell_type": "code",
   "execution_count": null,
   "metadata": {},
   "outputs": [],
   "source": []
  },
  {
   "cell_type": "code",
   "execution_count": null,
   "metadata": {},
   "outputs": [],
   "source": [
    "b=stream.Score()\n",
    "b"
   ]
  },
  {
   "cell_type": "code",
   "execution_count": null,
   "metadata": {},
   "outputs": [],
   "source": [
    " streamScore.plot('histogram', 'pitch')"
   ]
  },
  {
   "cell_type": "code",
   "execution_count": null,
   "metadata": {},
   "outputs": [],
   "source": [
    "p = graph.plot.WindowedKey(streamScore.parts[0])\n",
    "p.id\n",
    "p.run()"
   ]
  },
  {
   "cell_type": "code",
   "execution_count": null,
   "metadata": {},
   "outputs": [],
   "source": [
    "#Equal number of measures for each section\n",
    "a=streamScore.parts[0].measures(2,17)#.plot()\n",
    "b=streamScore.parts[0].measures(34,49)#.plot()\n",
    "c=streamScore.parts[0].measures(82,97)#.plot()\n",
    "d=streamScore.parts[0].measures(114,129)#.plot()\n",
    "\n",
    "a.plot('histogram', 'pitch')\n",
    "b.plot('histogram', 'pitch')\n",
    "c.plot('histogram', 'pitch')\n",
    "d.plot('histogram', 'pitch')\n",
    "#realtime_a = midi.realtime.StreamPlayer(a)\n",
    "#realtime_b = midi.realtime.StreamPlayer(b)\n",
    "#realtime_c = midi.realtime.StreamPlayer(c)\n",
    "#realtime_d = midi.realtime.StreamPlayer(d)\n",
    "\n",
    "#ss.play()"
   ]
  },
  {
   "cell_type": "code",
   "execution_count": null,
   "metadata": {},
   "outputs": [],
   "source": [
    "a.show('text')"
   ]
  },
  {
   "cell_type": "code",
   "execution_count": null,
   "metadata": {},
   "outputs": [],
   "source": [
    "a=streamScore.parts[0].measures(2,17)#.plot()\n",
    "a_split=a.voicesToParts()\n",
    "a_right=a_split.parts[0]\n",
    "a_left=a_split.parts[1]\n",
    "#s_right=a_split.parts[0].show('t')\n"
   ]
  },
  {
   "cell_type": "code",
   "execution_count": null,
   "metadata": {},
   "outputs": [],
   "source": [
    "streamScoreSeparated=streamScore.voicesToParts()\n",
    "left=streamScoreSeparated.parts[1]\n",
    "right=streamScoreSeparated.parts[0]"
   ]
  },
  {
   "cell_type": "code",
   "execution_count": null,
   "metadata": {},
   "outputs": [],
   "source": [
    "left.show('text')"
   ]
  },
  {
   "cell_type": "code",
   "execution_count": null,
   "metadata": {},
   "outputs": [],
   "source": [
    "for i in a_right:\n",
    "    for j in (i.elements):\n",
    "        print(j.offset)"
   ]
  },
  {
   "cell_type": "code",
   "execution_count": null,
   "metadata": {},
   "outputs": [],
   "source": [
    "a_left.show('t')"
   ]
  },
  {
   "cell_type": "code",
   "execution_count": null,
   "metadata": {},
   "outputs": [],
   "source": [
    "from copy import copy\n",
    "swing_left = copy(a_left.flat)\n",
    "swing_right = copy(a_right.flat)\n"
   ]
  },
  {
   "cell_type": "code",
   "execution_count": null,
   "metadata": {},
   "outputs": [],
   "source": [
    "a.flat[0:10].show('t')"
   ]
  },
  {
   "cell_type": "code",
   "execution_count": null,
   "metadata": {},
   "outputs": [],
   "source": [
    "a.flat[4].duration=stream.duration.Duration(0.8)"
   ]
  },
  {
   "cell_type": "code",
   "execution_count": null,
   "metadata": {},
   "outputs": [],
   "source": [
    "type(a.flat[3])==chord.Chord or type(a.flat[3])==note.Note"
   ]
  },
  {
   "cell_type": "code",
   "execution_count": 158,
   "metadata": {},
   "outputs": [],
   "source": [
    "count=0\n",
    "for element in swing_left:\n",
    "    if(type(element)==chord.Chord or type(element)==note.Note):\n",
    "        offset=element.offset\n",
    "        if(offset*2%1==0):\n",
    "            if(count%2==1):\n",
    "                element.offset+=0.3\n",
    "            count+=1"
   ]
  },
  {
   "cell_type": "code",
   "execution_count": null,
   "metadata": {},
   "outputs": [],
   "source": [
    "\n",
    "count=0\n",
    "for element in swing_right:\n",
    "    if(type(element)==chord.Chord or type(element)==note.Note):\n",
    "        offset=element.offset\n",
    "        if(offset*2%1==0):\n",
    "            if(count%2==0):\n",
    "                element.offset+=0.3\n",
    "            count+=1\n",
    "            "
   ]
  },
  {
   "cell_type": "code",
   "execution_count": null,
   "metadata": {},
   "outputs": [],
   "source": [
    "swing_lr=swing.voicesToParts()"
   ]
  },
  {
   "cell_type": "code",
   "execution_count": null,
   "metadata": {},
   "outputs": [],
   "source": [
    "swing_right[4:15].show('t')"
   ]
  },
  {
   "cell_type": "code",
   "execution_count": 164,
   "metadata": {},
   "outputs": [],
   "source": [
    "from copy import copy\n",
    "\n",
    "a=streamScore.parts[0].measures(2,17)#.plot()\n",
    "a_split=a.voicesToParts()\n",
    "a_right=a_split.parts[0]\n",
    "a_left=a_split.parts[1]\n",
    "\n",
    "swing_left = copy(a_left.flat)\n",
    "swing_right = copy(a_right.flat)\n",
    "\n",
    "count=0\n",
    "for element in swing_left:\n",
    "    if(type(element)==chord.Chord or type(element)==note.Note):\n",
    "        offset=element.offset\n",
    "        if(offset*2%1==0):\n",
    "            if(count%2==1):\n",
    "                element.offset+=0.4\n",
    "            count+=1\n",
    "            \n",
    "count=0\n",
    "for element in swing_right:\n",
    "    if(type(element)==chord.Chord or type(element)==note.Note):\n",
    "        offset=element.offset\n",
    "        if(offset*2%1==0):\n",
    "            if(count%2==1):\n",
    "                element.offset+=0.3\n",
    "            count+=1\n",
    "\n",
    "s = stream.Stream()\n",
    "s.append(streamScore[0][0:4])\n",
    "s.insert(0,swing_left) #rswight\n",
    "#s.insert(0,swing_right) #rswight\n",
    "realtime_a = midi.realtime.StreamPlayer(s)\n",
    "realtime_a.play()"
   ]
  },
  {
   "cell_type": "code",
   "execution_count": 165,
   "metadata": {},
   "outputs": [],
   "source": [
    "s = stream.Stream()\n",
    "s.append(streamScore[0][0:4])\n",
    "s.insert(0,swing_left) #rswight\n",
    "s.insert(0,swing_right) #rswight\n",
    "realtime_a = midi.realtime.StreamPlayer(s)\n",
    "realtime_a.play()"
   ]
  },
  {
   "cell_type": "code",
   "execution_count": null,
   "metadata": {},
   "outputs": [],
   "source": []
  }
 ],
 "metadata": {
  "kernelspec": {
   "display_name": "Python 2",
   "language": "python",
   "name": "python2"
  },
  "language_info": {
   "codemirror_mode": {
    "name": "ipython",
    "version": 2
   },
   "file_extension": ".py",
   "mimetype": "text/x-python",
   "name": "python",
   "nbconvert_exporter": "python",
   "pygments_lexer": "ipython2",
   "version": "2.7.12"
  }
 },
 "nbformat": 4,
 "nbformat_minor": 2
}
